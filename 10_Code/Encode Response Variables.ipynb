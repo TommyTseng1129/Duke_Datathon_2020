{
 "cells": [
  {
   "cell_type": "code",
   "execution_count": 18,
   "metadata": {},
   "outputs": [],
   "source": [
    "import numpy as np\n",
    "import pandas as pd\n",
    "import matplotlib.pyplot as plt\n",
    "from sklearn.decomposition import TruncatedSVD\n",
    "from sklearn.decomposition import PCA\n",
    "from sklearn.preprocessing import StandardScaler\n",
    "from datetime import datetime\n",
    "import matplotlib.pyplot as plt"
   ]
  },
  {
   "cell_type": "markdown",
   "metadata": {},
   "source": [
    "This notebook encodes economic predictor we gathered from internet into an aggregated economic metric that we called economic development metic (EDI). We also visualize the EDI for 10 countries from 2008 to 2020 to see the economic impact of COVID-19."
   ]
  },
  {
   "cell_type": "markdown",
   "metadata": {},
   "source": [
    "### Import Dataset"
   ]
  },
  {
   "cell_type": "code",
   "execution_count": 19,
   "metadata": {},
   "outputs": [
    {
     "data": {
      "text/html": [
       "<div>\n",
       "<style scoped>\n",
       "    .dataframe tbody tr th:only-of-type {\n",
       "        vertical-align: middle;\n",
       "    }\n",
       "\n",
       "    .dataframe tbody tr th {\n",
       "        vertical-align: top;\n",
       "    }\n",
       "\n",
       "    .dataframe thead th {\n",
       "        text-align: right;\n",
       "    }\n",
       "</style>\n",
       "<table border=\"1\" class=\"dataframe\">\n",
       "  <thead>\n",
       "    <tr style=\"text-align: right;\">\n",
       "      <th></th>\n",
       "      <th>Unnamed: 0</th>\n",
       "      <th>index</th>\n",
       "      <th>Core CPI</th>\n",
       "      <th>Unemployment rate</th>\n",
       "      <th>Stock Markets</th>\n",
       "      <th>country</th>\n",
       "      <th>GDP in  US$</th>\n",
       "    </tr>\n",
       "  </thead>\n",
       "  <tbody>\n",
       "    <tr>\n",
       "      <th>0</th>\n",
       "      <td>0</td>\n",
       "      <td>2008-01-01</td>\n",
       "      <td>90.153723</td>\n",
       "      <td>11.157871</td>\n",
       "      <td>87.101121</td>\n",
       "      <td>Brazil</td>\n",
       "      <td>3662800.0</td>\n",
       "    </tr>\n",
       "    <tr>\n",
       "      <th>1</th>\n",
       "      <td>1</td>\n",
       "      <td>2008-02-01</td>\n",
       "      <td>90.694644</td>\n",
       "      <td>11.312779</td>\n",
       "      <td>94.025339</td>\n",
       "      <td>Brazil</td>\n",
       "      <td>3662800.0</td>\n",
       "    </tr>\n",
       "    <tr>\n",
       "      <th>2</th>\n",
       "      <td>2</td>\n",
       "      <td>2008-03-01</td>\n",
       "      <td>91.111840</td>\n",
       "      <td>10.791905</td>\n",
       "      <td>93.490682</td>\n",
       "      <td>Brazil</td>\n",
       "      <td>3662800.0</td>\n",
       "    </tr>\n",
       "    <tr>\n",
       "      <th>3</th>\n",
       "      <td>3</td>\n",
       "      <td>2008-04-01</td>\n",
       "      <td>91.631178</td>\n",
       "      <td>10.700540</td>\n",
       "      <td>98.750100</td>\n",
       "      <td>Brazil</td>\n",
       "      <td>3701400.0</td>\n",
       "    </tr>\n",
       "    <tr>\n",
       "      <th>4</th>\n",
       "      <td>4</td>\n",
       "      <td>2008-05-01</td>\n",
       "      <td>92.217617</td>\n",
       "      <td>9.939990</td>\n",
       "      <td>111.320716</td>\n",
       "      <td>Brazil</td>\n",
       "      <td>3701400.0</td>\n",
       "    </tr>\n",
       "  </tbody>\n",
       "</table>\n",
       "</div>"
      ],
      "text/plain": [
       "   Unnamed: 0       index   Core CPI  Unemployment rate  Stock Markets  \\\n",
       "0           0  2008-01-01  90.153723          11.157871      87.101121   \n",
       "1           1  2008-02-01  90.694644          11.312779      94.025339   \n",
       "2           2  2008-03-01  91.111840          10.791905      93.490682   \n",
       "3           3  2008-04-01  91.631178          10.700540      98.750100   \n",
       "4           4  2008-05-01  92.217617           9.939990     111.320716   \n",
       "\n",
       "  country  GDP in  US$  \n",
       "0  Brazil    3662800.0  \n",
       "1  Brazil    3662800.0  \n",
       "2  Brazil    3662800.0  \n",
       "3  Brazil    3701400.0  \n",
       "4  Brazil    3701400.0  "
      ]
     },
     "execution_count": 19,
     "metadata": {},
     "output_type": "execute_result"
    }
   ],
   "source": [
    "# combined_indicators.csv contains the economic indicators from 2008 to 2020\n",
    "all_indicators = pd.read_csv('../Data/all_indicators.csv')\n",
    "all_indicators.head()"
   ]
  },
  {
   "cell_type": "code",
   "execution_count": 20,
   "metadata": {},
   "outputs": [
    {
     "name": "stdout",
     "output_type": "stream",
     "text": [
      "['Brazil' 'Canada' 'HongKong' 'Japan' 'Mexico' 'Russia' 'SouthAfrica'\n",
      " 'Thailand' 'UnitedKingdom' 'UnitedStates']\n"
     ]
    }
   ],
   "source": [
    "# Here are the countries we investigated\n",
    "print(all_indicators['country'].unique())"
   ]
  },
  {
   "cell_type": "markdown",
   "metadata": {},
   "source": [
    "### Aggregate Indexes Using PCA"
   ]
  },
  {
   "cell_type": "code",
   "execution_count": 21,
   "metadata": {},
   "outputs": [
    {
     "name": "stderr",
     "output_type": "stream",
     "text": [
      "//anaconda3/lib/python3.7/site-packages/ipykernel_launcher.py:4: SettingWithCopyWarning: \n",
      "A value is trying to be set on a copy of a slice from a DataFrame.\n",
      "Try using .loc[row_indexer,col_indexer] = value instead\n",
      "\n",
      "See the caveats in the documentation: https://pandas.pydata.org/pandas-docs/stable/user_guide/indexing.html#returning-a-view-versus-a-copy\n",
      "  after removing the cwd from sys.path.\n"
     ]
    },
    {
     "data": {
      "text/html": [
       "<div>\n",
       "<style scoped>\n",
       "    .dataframe tbody tr th:only-of-type {\n",
       "        vertical-align: middle;\n",
       "    }\n",
       "\n",
       "    .dataframe tbody tr th {\n",
       "        vertical-align: top;\n",
       "    }\n",
       "\n",
       "    .dataframe thead th {\n",
       "        text-align: right;\n",
       "    }\n",
       "</style>\n",
       "<table border=\"1\" class=\"dataframe\">\n",
       "  <thead>\n",
       "    <tr style=\"text-align: right;\">\n",
       "      <th></th>\n",
       "      <th>Employment rate</th>\n",
       "      <th>Stock Markets</th>\n",
       "      <th>GDP in  US$</th>\n",
       "    </tr>\n",
       "  </thead>\n",
       "  <tbody>\n",
       "    <tr>\n",
       "      <th>0</th>\n",
       "      <td>88.842129</td>\n",
       "      <td>87.101121</td>\n",
       "      <td>3662800.0</td>\n",
       "    </tr>\n",
       "    <tr>\n",
       "      <th>1</th>\n",
       "      <td>88.687221</td>\n",
       "      <td>94.025339</td>\n",
       "      <td>3662800.0</td>\n",
       "    </tr>\n",
       "    <tr>\n",
       "      <th>2</th>\n",
       "      <td>89.208095</td>\n",
       "      <td>93.490682</td>\n",
       "      <td>3662800.0</td>\n",
       "    </tr>\n",
       "    <tr>\n",
       "      <th>3</th>\n",
       "      <td>89.299460</td>\n",
       "      <td>98.750100</td>\n",
       "      <td>3701400.0</td>\n",
       "    </tr>\n",
       "    <tr>\n",
       "      <th>4</th>\n",
       "      <td>90.060010</td>\n",
       "      <td>111.320716</td>\n",
       "      <td>3701400.0</td>\n",
       "    </tr>\n",
       "  </tbody>\n",
       "</table>\n",
       "</div>"
      ],
      "text/plain": [
       "   Employment rate  Stock Markets  GDP in  US$\n",
       "0        88.842129      87.101121    3662800.0\n",
       "1        88.687221      94.025339    3662800.0\n",
       "2        89.208095      93.490682    3662800.0\n",
       "3        89.299460      98.750100    3701400.0\n",
       "4        90.060010     111.320716    3701400.0"
      ]
     },
     "execution_count": 21,
     "metadata": {},
     "output_type": "execute_result"
    }
   ],
   "source": [
    "indicators = ['Unemployment rate', 'Stock Markets', 'GDP in  US$']\n",
    "features = all_indicators[indicators]\n",
    "# Change Umployment rate to employment rate.\n",
    "features['Employment rate'] = 100 - features['Unemployment rate']\n",
    "indicators = ['Employment rate', 'Stock Markets', 'GDP in  US$']\n",
    "features = features[indicators]\n",
    "features.head()"
   ]
  },
  {
   "cell_type": "code",
   "execution_count": 22,
   "metadata": {},
   "outputs": [],
   "source": [
    "# Normalize all predictors\n",
    "scaler = StandardScaler()\n",
    "features = scaler.fit_transform(features)"
   ]
  },
  {
   "cell_type": "code",
   "execution_count": 23,
   "metadata": {},
   "outputs": [],
   "source": [
    "# Use PCA to aggregate the 3 indicators into 1\n",
    "# The aggregated index is named EDI\n",
    "pca = PCA(n_components=1)\n",
    "EDI = pca.fit_transform(features)"
   ]
  },
  {
   "cell_type": "code",
   "execution_count": 24,
   "metadata": {},
   "outputs": [
    {
     "data": {
      "text/html": [
       "<div>\n",
       "<style scoped>\n",
       "    .dataframe tbody tr th:only-of-type {\n",
       "        vertical-align: middle;\n",
       "    }\n",
       "\n",
       "    .dataframe tbody tr th {\n",
       "        vertical-align: top;\n",
       "    }\n",
       "\n",
       "    .dataframe thead th {\n",
       "        text-align: right;\n",
       "    }\n",
       "</style>\n",
       "<table border=\"1\" class=\"dataframe\">\n",
       "  <thead>\n",
       "    <tr style=\"text-align: right;\">\n",
       "      <th></th>\n",
       "      <th>country</th>\n",
       "      <th>index</th>\n",
       "      <th>EDI</th>\n",
       "    </tr>\n",
       "  </thead>\n",
       "  <tbody>\n",
       "    <tr>\n",
       "      <th>0</th>\n",
       "      <td>Brazil</td>\n",
       "      <td>2008-01-01</td>\n",
       "      <td>2.375691</td>\n",
       "    </tr>\n",
       "    <tr>\n",
       "      <th>1</th>\n",
       "      <td>Brazil</td>\n",
       "      <td>2008-02-01</td>\n",
       "      <td>2.556433</td>\n",
       "    </tr>\n",
       "    <tr>\n",
       "      <th>2</th>\n",
       "      <td>Brazil</td>\n",
       "      <td>2008-03-01</td>\n",
       "      <td>2.623345</td>\n",
       "    </tr>\n",
       "    <tr>\n",
       "      <th>3</th>\n",
       "      <td>Brazil</td>\n",
       "      <td>2008-04-01</td>\n",
       "      <td>2.859230</td>\n",
       "    </tr>\n",
       "    <tr>\n",
       "      <th>4</th>\n",
       "      <td>Brazil</td>\n",
       "      <td>2008-05-01</td>\n",
       "      <td>3.352902</td>\n",
       "    </tr>\n",
       "  </tbody>\n",
       "</table>\n",
       "</div>"
      ],
      "text/plain": [
       "  country       index       EDI\n",
       "0  Brazil  2008-01-01  2.375691\n",
       "1  Brazil  2008-02-01  2.556433\n",
       "2  Brazil  2008-03-01  2.623345\n",
       "3  Brazil  2008-04-01  2.859230\n",
       "4  Brazil  2008-05-01  3.352902"
      ]
     },
     "execution_count": 24,
     "metadata": {},
     "output_type": "execute_result"
    }
   ],
   "source": [
    "EDI_df = all_indicators\n",
    "EDI_df['EDI'] = EDI\n",
    "# make EDI a positive value\n",
    "EDI_df['EDI'] += EDI_df['EDI']+5\n",
    "final_columns = ['country', 'index', 'EDI']\n",
    "EDI_df = EDI_df[final_columns]\n",
    "EDI_df.head()"
   ]
  },
  {
   "cell_type": "markdown",
   "metadata": {},
   "source": [
    "### Export Dataset"
   ]
  },
  {
   "cell_type": "code",
   "execution_count": 25,
   "metadata": {},
   "outputs": [],
   "source": [
    "#EDI_df.to_csv('EDI_indicators.csv',index=False)"
   ]
  },
  {
   "cell_type": "markdown",
   "metadata": {},
   "source": [
    "### Visualize"
   ]
  },
  {
   "cell_type": "code",
   "execution_count": 26,
   "metadata": {},
   "outputs": [
    {
     "data": {
      "text/html": [
       "<div>\n",
       "<style scoped>\n",
       "    .dataframe tbody tr th:only-of-type {\n",
       "        vertical-align: middle;\n",
       "    }\n",
       "\n",
       "    .dataframe tbody tr th {\n",
       "        vertical-align: top;\n",
       "    }\n",
       "\n",
       "    .dataframe thead th {\n",
       "        text-align: right;\n",
       "    }\n",
       "</style>\n",
       "<table border=\"1\" class=\"dataframe\">\n",
       "  <thead>\n",
       "    <tr style=\"text-align: right;\">\n",
       "      <th></th>\n",
       "      <th>country</th>\n",
       "      <th>index</th>\n",
       "      <th>EDI</th>\n",
       "    </tr>\n",
       "  </thead>\n",
       "  <tbody>\n",
       "    <tr>\n",
       "      <th>0</th>\n",
       "      <td>Brazil</td>\n",
       "      <td>2008-01-01</td>\n",
       "      <td>2.375691</td>\n",
       "    </tr>\n",
       "    <tr>\n",
       "      <th>1</th>\n",
       "      <td>Brazil</td>\n",
       "      <td>2008-02-01</td>\n",
       "      <td>2.556433</td>\n",
       "    </tr>\n",
       "    <tr>\n",
       "      <th>2</th>\n",
       "      <td>Brazil</td>\n",
       "      <td>2008-03-01</td>\n",
       "      <td>2.623345</td>\n",
       "    </tr>\n",
       "    <tr>\n",
       "      <th>3</th>\n",
       "      <td>Brazil</td>\n",
       "      <td>2008-04-01</td>\n",
       "      <td>2.859230</td>\n",
       "    </tr>\n",
       "    <tr>\n",
       "      <th>4</th>\n",
       "      <td>Brazil</td>\n",
       "      <td>2008-05-01</td>\n",
       "      <td>3.352902</td>\n",
       "    </tr>\n",
       "  </tbody>\n",
       "</table>\n",
       "</div>"
      ],
      "text/plain": [
       "  country      index       EDI\n",
       "0  Brazil 2008-01-01  2.375691\n",
       "1  Brazil 2008-02-01  2.556433\n",
       "2  Brazil 2008-03-01  2.623345\n",
       "3  Brazil 2008-04-01  2.859230\n",
       "4  Brazil 2008-05-01  3.352902"
      ]
     },
     "execution_count": 26,
     "metadata": {},
     "output_type": "execute_result"
    }
   ],
   "source": [
    "EDI = pd.read_csv('../Data/EDI_indicators.csv')\n",
    "EDI['index'] = pd.to_datetime(EDI['index'])\n",
    "EDI.head()"
   ]
  },
  {
   "cell_type": "code",
   "execution_count": 27,
   "metadata": {},
   "outputs": [
    {
     "name": "stdout",
     "output_type": "stream",
     "text": [
      "['Brazil' 'Canada' 'HongKong' 'Japan' 'Mexico' 'Russia' 'SouthAfrica'\n",
      " 'Thailand' 'UnitedKingdom' 'UnitedStates']\n"
     ]
    }
   ],
   "source": [
    "# Here are the countries we investigated\n",
    "print(EDI['country'].unique())"
   ]
  },
  {
   "cell_type": "code",
   "execution_count": 28,
   "metadata": {},
   "outputs": [],
   "source": [
    "# Enter a country to plot the EDI from 2008-2020\n",
    "def plot_EDI(country):\n",
    "    country_df = EDI[EDI['country'] == country]\n",
    "    plt.plot(country_df['index'], country_df['EDI'])\n",
    "    plt.title('EDI over Years: '+country)\n",
    "    plt.xlabel('Year')\n",
    "    plt.ylabel('EDI')\n",
    "    plt.show()"
   ]
  },
  {
   "cell_type": "code",
   "execution_count": 29,
   "metadata": {},
   "outputs": [
    {
     "data": {
      "image/png": "[encoded data removed]",
      "text/plain": [
       "<Figure size 432x288 with 1 Axes>"
      ]
     },
     "metadata": {
      "needs_background": "light"
     },
     "output_type": "display_data"
    }
   ],
   "source": [
    "plot_EDI('UnitedStates')\n",
    "# Represents the economic of COVID-19 very well"
   ]
  },
  {
   "cell_type": "code",
   "execution_count": 30,
   "metadata": {},
   "outputs": [
    {
     "data": {
      "image/png": "[encoded data removed]",
      "text/plain": [
       "<Figure size 432x288 with 1 Axes>"
      ]
     },
     "metadata": {
      "needs_background": "light"
     },
     "output_type": "display_data"
    }
   ],
   "source": [
    "plot_EDI('Japan')\n",
    "# Japan is less impacted compared to USA"
   ]
  },
  {
   "cell_type": "code",
   "execution_count": null,
   "metadata": {},
   "outputs": [],
   "source": []
  }
 ],
 "metadata": {
  "kernelspec": {
   "display_name": "Python 3",
   "language": "python",
   "name": "python3"
  },
  "language_info": {
   "codemirror_mode": {
    "name": "ipython",
    "version": 3
   },
   "file_extension": ".py",
   "mimetype": "text/x-python",
   "name": "python",
   "nbconvert_exporter": "python",
   "pygments_lexer": "ipython3",
   "version": "3.7.3"
  }
 },
 "nbformat": 4,
 "nbformat_minor": 4
}
