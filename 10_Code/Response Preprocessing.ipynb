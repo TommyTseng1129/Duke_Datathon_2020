{
 "cells": [
  {
   "cell_type": "code",
   "execution_count": 1,
   "metadata": {},
   "outputs": [],
   "source": [
    "import pandas as pd"
   ]
  },
  {
   "cell_type": "markdown",
   "metadata": {},
   "source": [
    "Combine data with Core CPI, Unemployment rate, Stock Markets with data with GDP in US\\$ for each country\n",
    "\n",
    "First data comes in a monthly basis, second data comes in a quarterly basis."
   ]
  },
  {
   "cell_type": "code",
   "execution_count": 75,
   "metadata": {},
   "outputs": [],
   "source": [
    "# define a function that combines two data\n",
    "def combine(m_data, q_data, country_name):\n",
    "    # format date and use as index\n",
    "    m_index = m_data['index'].apply(lambda x: x[:7])\n",
    "    m_date = pd.to_datetime(m_index, format = '%YM%m')\n",
    "    m_data.loc[:,'index'] = m_date\n",
    "    # format date and use as index\n",
    "    q_index = q_data['index'].apply(lambda x: x.replace('Q', 'M')[:6])\n",
    "    q_index = q_index.apply(lambda x: x[:-1] + str(int(x[-1])*3-2))\n",
    "    q_date = pd.to_datetime(q_index, format = '%YM%m')\n",
    "    q_data.loc[:,'index'] = q_date\n",
    "    # merge two data, forward fill the missing value\n",
    "    combined = m_data.merge(q_data, on = 'index', how = 'left')\n",
    "    combined.fillna(method='ffill', inplace = True)\n",
    "    # add country name into the data\n",
    "    combined['country'] = country_name\n",
    "    \n",
    "    return combined"
   ]
  },
  {
   "cell_type": "code",
   "execution_count": 76,
   "metadata": {},
   "outputs": [],
   "source": [
    "# save all country names in a list\n",
    "country_names = ['Brazil', 'Canada', 'HongKong', 'Japan', 'Mexico',\n",
    "                'Russia', 'SouthAfrica', 'Thailand', 'UnitedKingdom',\n",
    "                'UnitedStates']"
   ]
  },
  {
   "cell_type": "code",
   "execution_count": 86,
   "metadata": {},
   "outputs": [],
   "source": [
    "# define a dataframe to save combined data\n",
    "GDP_data = pd.DataFrame(columns= ['index', 'Core CPI', 'Unemployment rate', \n",
    "                                  'Stock Markets', 'GDP in US$', 'country'])"
   ]
  },
  {
   "cell_type": "code",
   "execution_count": 87,
   "metadata": {},
   "outputs": [],
   "source": [
    "# combine data for each country in the country_name list\n",
    "# and append to the dataframe\n",
    "for country in country_names:\n",
    "    m_path = './EDI_dataset/' + country + '_M.csv'\n",
    "    q_path = './EDI_dataset/' + country + '_Q.csv'\n",
    "    \n",
    "    m_data = pd.read_csv(m_path)\n",
    "    q_data = pd.read_csv(q_path)\n",
    "    \n",
    "    combined_data = combine(m_data, q_data, country)\n",
    "    \n",
    "    GDP_data =  GDP_data.append(combined_data)"
   ]
  },
  {
   "cell_type": "code",
   "execution_count": 99,
   "metadata": {},
   "outputs": [],
   "source": [
    "# remove redundant columns\n",
    "GDP_data.drop(['GDP in US$', 'level_0_x', 'level_0_y'], axis = 1, inplace = True)"
   ]
  },
  {
   "cell_type": "code",
   "execution_count": 119,
   "metadata": {},
   "outputs": [
    {
     "data": {
      "text/html": [
       "<div>\n",
       "<style scoped>\n",
       "    .dataframe tbody tr th:only-of-type {\n",
       "        vertical-align: middle;\n",
       "    }\n",
       "\n",
       "    .dataframe tbody tr th {\n",
       "        vertical-align: top;\n",
       "    }\n",
       "\n",
       "    .dataframe thead th {\n",
       "        text-align: right;\n",
       "    }\n",
       "</style>\n",
       "<table border=\"1\" class=\"dataframe\">\n",
       "  <thead>\n",
       "    <tr style=\"text-align: right;\">\n",
       "      <th></th>\n",
       "      <th>index</th>\n",
       "      <th>Core CPI</th>\n",
       "      <th>Unemployment rate</th>\n",
       "      <th>Stock Markets</th>\n",
       "      <th>country</th>\n",
       "      <th>GDP in  US$</th>\n",
       "    </tr>\n",
       "  </thead>\n",
       "  <tbody>\n",
       "    <tr>\n",
       "      <th>0</th>\n",
       "      <td>2008-01-01</td>\n",
       "      <td>90.153723</td>\n",
       "      <td>11.157871</td>\n",
       "      <td>87.101121</td>\n",
       "      <td>Brazil</td>\n",
       "      <td>3662800.0</td>\n",
       "    </tr>\n",
       "    <tr>\n",
       "      <th>1</th>\n",
       "      <td>2008-02-01</td>\n",
       "      <td>90.694644</td>\n",
       "      <td>11.312779</td>\n",
       "      <td>94.025339</td>\n",
       "      <td>Brazil</td>\n",
       "      <td>3662800.0</td>\n",
       "    </tr>\n",
       "    <tr>\n",
       "      <th>2</th>\n",
       "      <td>2008-03-01</td>\n",
       "      <td>91.111840</td>\n",
       "      <td>10.791905</td>\n",
       "      <td>93.490682</td>\n",
       "      <td>Brazil</td>\n",
       "      <td>3662800.0</td>\n",
       "    </tr>\n",
       "    <tr>\n",
       "      <th>3</th>\n",
       "      <td>2008-04-01</td>\n",
       "      <td>91.631178</td>\n",
       "      <td>10.700540</td>\n",
       "      <td>98.750100</td>\n",
       "      <td>Brazil</td>\n",
       "      <td>3701400.0</td>\n",
       "    </tr>\n",
       "    <tr>\n",
       "      <th>4</th>\n",
       "      <td>2008-05-01</td>\n",
       "      <td>92.217617</td>\n",
       "      <td>9.939990</td>\n",
       "      <td>111.320716</td>\n",
       "      <td>Brazil</td>\n",
       "      <td>3701400.0</td>\n",
       "    </tr>\n",
       "    <tr>\n",
       "      <th>...</th>\n",
       "      <td>...</td>\n",
       "      <td>...</td>\n",
       "      <td>...</td>\n",
       "      <td>...</td>\n",
       "      <td>...</td>\n",
       "      <td>...</td>\n",
       "    </tr>\n",
       "    <tr>\n",
       "      <th>146</th>\n",
       "      <td>2020-03-01</td>\n",
       "      <td>121.457975</td>\n",
       "      <td>4.400000</td>\n",
       "      <td>216.186728</td>\n",
       "      <td>UnitedStates</td>\n",
       "      <td>5384900.0</td>\n",
       "    </tr>\n",
       "    <tr>\n",
       "      <th>147</th>\n",
       "      <td>2020-04-01</td>\n",
       "      <td>120.902284</td>\n",
       "      <td>14.700000</td>\n",
       "      <td>222.456085</td>\n",
       "      <td>UnitedStates</td>\n",
       "      <td>5384900.0</td>\n",
       "    </tr>\n",
       "    <tr>\n",
       "      <th>148</th>\n",
       "      <td>2020-05-01</td>\n",
       "      <td>120.770517</td>\n",
       "      <td>13.300000</td>\n",
       "      <td>231.787567</td>\n",
       "      <td>UnitedStates</td>\n",
       "      <td>5384900.0</td>\n",
       "    </tr>\n",
       "    <tr>\n",
       "      <th>149</th>\n",
       "      <td>2020-06-01</td>\n",
       "      <td>120.999064</td>\n",
       "      <td>11.100000</td>\n",
       "      <td>248.893940</td>\n",
       "      <td>UnitedStates</td>\n",
       "      <td>5384900.0</td>\n",
       "    </tr>\n",
       "    <tr>\n",
       "      <th>150</th>\n",
       "      <td>2020-07-01</td>\n",
       "      <td>120.999064</td>\n",
       "      <td>11.100000</td>\n",
       "      <td>251.806176</td>\n",
       "      <td>UnitedStates</td>\n",
       "      <td>5384900.0</td>\n",
       "    </tr>\n",
       "  </tbody>\n",
       "</table>\n",
       "<p>1510 rows × 6 columns</p>\n",
       "</div>"
      ],
      "text/plain": [
       "         index    Core CPI  Unemployment rate  Stock Markets       country  \\\n",
       "0   2008-01-01   90.153723          11.157871      87.101121        Brazil   \n",
       "1   2008-02-01   90.694644          11.312779      94.025339        Brazil   \n",
       "2   2008-03-01   91.111840          10.791905      93.490682        Brazil   \n",
       "3   2008-04-01   91.631178          10.700540      98.750100        Brazil   \n",
       "4   2008-05-01   92.217617           9.939990     111.320716        Brazil   \n",
       "..         ...         ...                ...            ...           ...   \n",
       "146 2020-03-01  121.457975           4.400000     216.186728  UnitedStates   \n",
       "147 2020-04-01  120.902284          14.700000     222.456085  UnitedStates   \n",
       "148 2020-05-01  120.770517          13.300000     231.787567  UnitedStates   \n",
       "149 2020-06-01  120.999064          11.100000     248.893940  UnitedStates   \n",
       "150 2020-07-01  120.999064          11.100000     251.806176  UnitedStates   \n",
       "\n",
       "     GDP in  US$  \n",
       "0      3662800.0  \n",
       "1      3662800.0  \n",
       "2      3662800.0  \n",
       "3      3701400.0  \n",
       "4      3701400.0  \n",
       "..           ...  \n",
       "146    5384900.0  \n",
       "147    5384900.0  \n",
       "148    5384900.0  \n",
       "149    5384900.0  \n",
       "150    5384900.0  \n",
       "\n",
       "[1510 rows x 6 columns]"
      ]
     },
     "execution_count": 119,
     "metadata": {},
     "output_type": "execute_result"
    }
   ],
   "source": [
    "# show dataframe\n",
    "GDP_data"
   ]
  },
  {
   "cell_type": "code",
   "execution_count": 101,
   "metadata": {},
   "outputs": [],
   "source": [
    "# export data to csv file to be used to calcualte EDI\n",
    "GDP_data.to_csv('combined_indicators.csv')"
   ]
  },
  {
   "cell_type": "markdown",
   "metadata": {},
   "source": [
    "The csv file 'combined_indicators.csv' will be used by another team member to calculate EDI. The method deployed for this calculation is PCA. Note that filename is changed to 'all_indicators.csv' on the other end.\n",
    "\n",
    "Next look at the range of predictor variable. We need to find the overlapped time window between the response and predictors."
   ]
  },
  {
   "cell_type": "code",
   "execution_count": 104,
   "metadata": {},
   "outputs": [],
   "source": [
    "# import predictors\n",
    "final_data = pd.read_csv('./final_data.csv')"
   ]
  },
  {
   "cell_type": "code",
   "execution_count": 114,
   "metadata": {},
   "outputs": [
    {
     "data": {
      "text/plain": [
       "'2020-02-15'"
      ]
     },
     "execution_count": 114,
     "metadata": {},
     "output_type": "execute_result"
    }
   ],
   "source": [
    "# check predictors' starting data\n",
    "final_data['date'].unique()[0]"
   ]
  },
  {
   "cell_type": "code",
   "execution_count": 112,
   "metadata": {},
   "outputs": [
    {
     "data": {
      "text/plain": [
       "'2020-10-27'"
      ]
     },
     "execution_count": 112,
     "metadata": {},
     "output_type": "execute_result"
    }
   ],
   "source": [
    "# check predictor's ending date\n",
    "final_data['date'].unique()[-1]"
   ]
  },
  {
   "cell_type": "markdown",
   "metadata": {},
   "source": [
    "After response variable - EDI is computed for each country, import this data.\n",
    "\n",
    "Because the EDI data comes in a monthly basis, and the predictor data was collected for everday between 2020-02-15 to 2020-10-27, we need to do linear interpolation on the EDI data. Note that we will start from 2020-02-01 isntead of 2020-02-15 because the EDA data is available on the first day of every month, so we will need to use 2020-02-01 and 2020-03-01 to interpolate the EDI value for every day in February. After interpolation, we will discard interpolated EDI data before 2020-02-15 so that we will only be left with the overlapped data between response and predictors."
   ]
  },
  {
   "cell_type": "code",
   "execution_count": 120,
   "metadata": {},
   "outputs": [],
   "source": [
    "# read computed EDI data\n",
    "edi = pd.read_csv('./EDI_indicators.csv')"
   ]
  },
  {
   "cell_type": "code",
   "execution_count": 126,
   "metadata": {},
   "outputs": [],
   "source": [
    "# create a time index to work with\n",
    "time_index = pd.date_range(start = '2/1/2020', end = '7/1/2020')"
   ]
  },
  {
   "cell_type": "code",
   "execution_count": 166,
   "metadata": {},
   "outputs": [],
   "source": [
    "# create a dataframe to store interpolated data\n",
    "interpolated_df = pd.DataFrame(columns=['country', 'EDI'])"
   ]
  },
  {
   "cell_type": "code",
   "execution_count": 169,
   "metadata": {},
   "outputs": [],
   "source": [
    "# loop through all countries and perform interpolation\n",
    "for country in country_names:\n",
    "    # subset edi data for each country\n",
    "    temp_df = edi.loc[edi['country'] == country, ]\n",
    "    # use date as index\n",
    "    temp_df.set_index('index', inplace = True)\n",
    "    temp_df.index = pd.to_datetime(temp_df.index)\n",
    "    temp_df = temp_df.reindex(time_index)\n",
    "    # perform interpolation and forward fill missing values\n",
    "    temp_df = temp_df.interpolate().fillna(method = 'ffill')\n",
    "    temp_df = temp_df.reset_index()\n",
    "    \n",
    "    interpolated_df = interpolated_df.append(temp_df)"
   ]
  },
  {
   "cell_type": "code",
   "execution_count": 176,
   "metadata": {},
   "outputs": [],
   "source": [
    "# change names for consistence for future use\n",
    "interpolated_df.replace({'UnitedKingdom':'United Kingdom',\n",
    "                        'UnitedStates':'Untied States',\n",
    "                        'SouthAfrica':'South Africa'}, inplace = True)"
   ]
  },
  {
   "cell_type": "code",
   "execution_count": 179,
   "metadata": {},
   "outputs": [],
   "source": [
    "# drop EDI data for hongkong\n",
    "interpolated_df = interpolated_df.loc[interpolated_df['country'] != 'HongKong', ]"
   ]
  },
  {
   "cell_type": "code",
   "execution_count": 181,
   "metadata": {},
   "outputs": [],
   "source": [
    "# export data as csv\n",
    "interpolated_df.to_csv('interpolated_edi.csv')"
   ]
  }
 ],
 "metadata": {
  "kernelspec": {
   "display_name": "Python 3",
   "language": "python",
   "name": "python3"
  },
  "language_info": {
   "codemirror_mode": {
    "name": "ipython",
    "version": 3
   },
   "file_extension": ".py",
   "mimetype": "text/x-python",
   "name": "python",
   "nbconvert_exporter": "python",
   "pygments_lexer": "ipython3",
   "version": "3.7.6"
  }
 },
 "nbformat": 4,
 "nbformat_minor": 4
}
