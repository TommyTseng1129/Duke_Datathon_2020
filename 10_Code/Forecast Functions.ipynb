{
 "cells": [
  {
   "cell_type": "markdown",
   "metadata": {},
   "source": [
    "Note that this file is used for experiementing with the Prophet package.\n",
    "\n",
    "This code contains two functions for forecasting response and predictors variables, respectively."
   ]
  },
  {
   "cell_type": "code",
   "execution_count": 1,
   "metadata": {},
   "outputs": [
    {
     "name": "stderr",
     "output_type": "stream",
     "text": [
      "Importing plotly failed. Interactive plots will not work.\n"
     ]
    },
    {
     "name": "stdout",
     "output_type": "stream",
     "text": [
      "Prophet 0.7.1\n"
     ]
    }
   ],
   "source": [
    "import warnings\n",
    "warnings.filterwarnings('ignore')\n",
    "\n",
    "# check prophet version\n",
    "import fbprophet as ph\n",
    "# print version number\n",
    "print('Prophet %s' % ph.__version__)\n",
    "# import other libraries\n",
    "import pandas as pd\n",
    "import matplotlib.pyplot as plt\n"
   ]
  },
  {
   "cell_type": "code",
   "execution_count": 3,
   "metadata": {},
   "outputs": [],
   "source": [
    "def forecast_economic_indicator(df, f_interval, freq = 'D'):\n",
    "    '''\n",
    "    input: dataframe - a dataframe containing date and economic indicator value\n",
    "           f_interval - prediction interval\n",
    "           freq - prediction frequency; default daily forecast\n",
    "    output: df - original dataframe with changed column names\n",
    "            hist_predict - prediction on historical data in a dataframe\n",
    "            future_predict - forecast on prediction interval in a dataframe\n",
    "            df_names - column names of original dataframe\n",
    "    '''\n",
    "    # get dataframe column names\n",
    "    df_names = df.columns\n",
    "    # change dataframe column names\n",
    "    df.columns = ['ds', 'y']\n",
    "    # convert ds column name\n",
    "    df['ds'] = pd.to_datetime(df['ds'])\n",
    "    \n",
    "    # initiate a prophet model\n",
    "    m = ph.Prophet()\n",
    "    # fit on dataframe\n",
    "    m.fit(df)\n",
    "    # define future prediction\n",
    "    future = m.make_future_dataframe(periods = f_interval, freq = freq)\n",
    "    # make prediction\n",
    "    forecast = m.predict(future)\n",
    "    # predict historical values\n",
    "    hist_predict = forecast[['ds','yhat']][:-f_interval]\n",
    "    # predict future values\n",
    "    future_predict = forecast[['ds','yhat']][-f_interval:]\n",
    "    \n",
    "    return df, hist_predict, future_predict, df_names"
   ]
  },
  {
   "cell_type": "code",
   "execution_count": 4,
   "metadata": {},
   "outputs": [],
   "source": [
    "def forecast_predictors(df, f_interval, freq = 'D'):\n",
    "    '''\n",
    "    input: dataframe - a dataframe containing date and predictor's values\n",
    "           f_interval - prediction interval\n",
    "           freq - prediction frequency; default daily forecast\n",
    "    output: future_predict - forecast on prediction interval in a dataframe\n",
    "    '''\n",
    "    columns = df.columns\n",
    "    for col in columns:\n",
    "        col_df = df[['date', col]]\n",
    "        col_df_names = df.columns\n",
    "        col_df.columns = ['ds', 'y']\n",
    "        m = ph.Prophet()\n",
    "        m.fit(col_df)\n",
    "        future = m.make_future_dataframe(periods = f_interval, freq = freq)\n",
    "        forecast = m.predict(future)\n",
    "        future_predict = forecast[['ds', 'yhat']][-f_interval]\n",
    "        \n",
    "        return future_predict"
   ]
  }
 ],
 "metadata": {
  "kernelspec": {
   "display_name": "Python 3",
   "language": "python",
   "name": "python3"
  },
  "language_info": {
   "codemirror_mode": {
    "name": "ipython",
    "version": 3
   },
   "file_extension": ".py",
   "mimetype": "text/x-python",
   "name": "python",
   "nbconvert_exporter": "python",
   "pygments_lexer": "ipython3",
   "version": "3.7.6"
  }
 },
 "nbformat": 4,
 "nbformat_minor": 4
}
