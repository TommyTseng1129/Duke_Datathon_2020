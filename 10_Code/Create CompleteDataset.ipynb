{
 "cells": [
  {
   "cell_type": "code",
   "execution_count": 1,
   "metadata": {},
   "outputs": [],
   "source": [
    "import pandas as pd"
   ]
  },
  {
   "cell_type": "markdown",
   "metadata": {},
   "source": [
    "This piece of code combines response variables and predictor variables into one single dataframe, and export as a csv so further analysis could be done in R"
   ]
  },
  {
   "cell_type": "code",
   "execution_count": 60,
   "metadata": {},
   "outputs": [],
   "source": [
    "# import response and predictor\n",
    "response = pd.read_csv('./response.csv')\n",
    "predictor = pd.read_csv('./final_data-2.csv')"
   ]
  },
  {
   "cell_type": "code",
   "execution_count": 61,
   "metadata": {},
   "outputs": [],
   "source": [
    "# drop ciolumn\n",
    "response.drop(['Unnamed: 0'], axis = 1, inplace = True)"
   ]
  },
  {
   "cell_type": "code",
   "execution_count": 62,
   "metadata": {},
   "outputs": [],
   "source": [
    "# convert index to datatime format\n",
    "response['index'] = pd.to_datetime(response['index'])"
   ]
  },
  {
   "cell_type": "code",
   "execution_count": 63,
   "metadata": {},
   "outputs": [],
   "source": [
    "# correct type in name so data could be merged\n",
    "response.replace({'Untied States':'United States'}, inplace= True)"
   ]
  },
  {
   "cell_type": "code",
   "execution_count": 64,
   "metadata": {},
   "outputs": [],
   "source": [
    "# convert index to datatime format\n",
    "predictor['date'] = pd.to_datetime(predictor['date'])"
   ]
  },
  {
   "cell_type": "code",
   "execution_count": 65,
   "metadata": {},
   "outputs": [
    {
     "name": "stdout",
     "output_type": "stream",
     "text": [
      "['Brazil' 'Canada' 'Japan' 'Mexico' 'Russia' 'South Africa' 'Thailand'\n",
      " 'United Kingdom' 'United States']\n",
      "['Brazil' 'Canada' 'United Kingdom' 'Japan' 'Mexico' 'Russia' 'Thailand'\n",
      " 'United States' 'South Africa']\n"
     ]
    }
   ],
   "source": [
    "print(response['country'].unique())\n",
    "print(predictor['country_region'].unique())"
   ]
  },
  {
   "cell_type": "code",
   "execution_count": 66,
   "metadata": {},
   "outputs": [],
   "source": [
    "# merge two dataframe\n",
    "merged = pd.merge(\n",
    "    response,\n",
    "    predictor,\n",
    "    how = \"left\",\n",
    "    left_on=[\"index\", \"country\"],\n",
    "    right_on=[\"date\", \"country_region\"],\n",
    ")"
   ]
  },
  {
   "cell_type": "code",
   "execution_count": 67,
   "metadata": {},
   "outputs": [],
   "source": [
    "# drop redundant columns\n",
    "merged.drop(['country_region', 'date'], axis = 1, inplace = True)"
   ]
  },
  {
   "cell_type": "code",
   "execution_count": 75,
   "metadata": {},
   "outputs": [],
   "source": [
    "# change decimal representation\n",
    "merged['Pop. Density (per sq. mi.)'] = merged['Pop. Density (per sq. mi.)'].apply(lambda x: x.replace(',', '.'))"
   ]
  },
  {
   "cell_type": "code",
   "execution_count": 69,
   "metadata": {},
   "outputs": [],
   "source": [
    "# drop redundant columns\n",
    "merged.drop(['index', 'country', 'gdp_per_capita'], axis = 1, inplace = True)"
   ]
  },
  {
   "cell_type": "code",
   "execution_count": 77,
   "metadata": {},
   "outputs": [],
   "source": [
    "# change column name\n",
    "merged.rename({'Pop. Density (per sq. mi.)':'population_density'}, axis = 1, inplace = True)"
   ]
  },
  {
   "cell_type": "code",
   "execution_count": 78,
   "metadata": {},
   "outputs": [],
   "source": [
    "# output as csv\n",
    "merged.to_csv('complete_dataset.csv', index=False)"
   ]
  }
 ],
 "metadata": {
  "kernelspec": {
   "display_name": "Python 3",
   "language": "python",
   "name": "python3"
  },
  "language_info": {
   "codemirror_mode": {
    "name": "ipython",
    "version": 3
   },
   "file_extension": ".py",
   "mimetype": "text/x-python",
   "name": "python",
   "nbconvert_exporter": "python",
   "pygments_lexer": "ipython3",
   "version": "3.7.6"
  }
 },
 "nbformat": 4,
 "nbformat_minor": 4
}
